{
 "cells": [
  {
   "cell_type": "markdown",
   "metadata": {},
   "source": [
    "## Build Model"
   ]
  },
  {
   "cell_type": "markdown",
   "metadata": {},
   "source": [
    "### Import relevant libraries"
   ]
  },
  {
   "cell_type": "code",
   "execution_count": 30,
   "metadata": {},
   "outputs": [],
   "source": [
    "import numpy as np\n",
    "import tensorflow as tf"
   ]
  },
  {
   "cell_type": "markdown",
   "metadata": {},
   "source": [
    "### Data"
   ]
  },
  {
   "cell_type": "code",
   "execution_count": 31,
   "metadata": {},
   "outputs": [],
   "source": [
    "npz=np.load('Audiobooks_data_train.npz')\n",
    "\n",
    "train_inputs=npz['inputs'].astype(np.float64)\n",
    "train_targets=npz['targets'].astype(np.int32)\n",
    "\n",
    "npz=np.load('Audiobooks_data_validation.npz')\n",
    "validation_inputs,validation_targets=npz['inputs'].astype(np.float64),npz['targets'].astype(np.int32)\n",
    "\n",
    "npz=np.load('Audiobooks_data_test.npz')\n",
    "test_inputs,test_targets=npz['inputs'].astype(np.float64),npz['targets'].astype(np.int32)\n"
   ]
  },
  {
   "cell_type": "markdown",
   "metadata": {},
   "source": [
    "### Model"
   ]
  },
  {
   "cell_type": "code",
   "execution_count": 32,
   "metadata": {},
   "outputs": [],
   "source": [
    "input_size = 10\n",
    "output_size = 2\n",
    "hidden_layer_size = 100\n",
    "\n",
    "model=tf.keras.Sequential([\n",
    "    tf.keras.layers.Dense(hidden_layer_size,activation='relu'),\n",
    "    tf.keras.layers.Dense(hidden_layer_size,activation='relu'),\n",
    "    tf.keras.layers.Dense(output_size,activation='softmax')\n",
    "])\n",
    "\n",
    "model.compile(optimizer='adam',loss='sparse_categorical_crossentropy',metrics=['accuracy'])"
   ]
  },
  {
   "attachments": {},
   "cell_type": "markdown",
   "metadata": {},
   "source": [
    "### Model Fit"
   ]
  },
  {
   "cell_type": "code",
   "execution_count": 33,
   "metadata": {},
   "outputs": [
    {
     "name": "stdout",
     "output_type": "stream",
     "text": [
      "Epoch 1/100\n",
      "36/36 - 1s - loss: 0.5582 - accuracy: 0.6980 - val_loss: 0.4898 - val_accuracy: 0.7226 - 1s/epoch - 31ms/step\n",
      "Epoch 2/100\n",
      "36/36 - 0s - loss: 0.4184 - accuracy: 0.7958 - val_loss: 0.4441 - val_accuracy: 0.7360 - 164ms/epoch - 5ms/step\n",
      "Epoch 3/100\n",
      "36/36 - 0s - loss: 0.3760 - accuracy: 0.8055 - val_loss: 0.4084 - val_accuracy: 0.7830 - 156ms/epoch - 4ms/step\n",
      "Epoch 4/100\n",
      "36/36 - 0s - loss: 0.3609 - accuracy: 0.8139 - val_loss: 0.3867 - val_accuracy: 0.7808 - 164ms/epoch - 5ms/step\n",
      "Epoch 5/100\n",
      "36/36 - 0s - loss: 0.3513 - accuracy: 0.8122 - val_loss: 0.3800 - val_accuracy: 0.8098 - 227ms/epoch - 6ms/step\n",
      "Epoch 6/100\n",
      "36/36 - 0s - loss: 0.3437 - accuracy: 0.8136 - val_loss: 0.3797 - val_accuracy: 0.8009 - 152ms/epoch - 4ms/step\n",
      "Epoch 7/100\n",
      "36/36 - 0s - loss: 0.3368 - accuracy: 0.8212 - val_loss: 0.3764 - val_accuracy: 0.7987 - 151ms/epoch - 4ms/step\n",
      "Epoch 8/100\n",
      "36/36 - 0s - loss: 0.3383 - accuracy: 0.8201 - val_loss: 0.3865 - val_accuracy: 0.7875 - 151ms/epoch - 4ms/step\n",
      "Epoch 9/100\n",
      "36/36 - 0s - loss: 0.3379 - accuracy: 0.8198 - val_loss: 0.3633 - val_accuracy: 0.8121 - 151ms/epoch - 4ms/step\n",
      "Epoch 10/100\n",
      "36/36 - 0s - loss: 0.3318 - accuracy: 0.8164 - val_loss: 0.3728 - val_accuracy: 0.8054 - 149ms/epoch - 4ms/step\n",
      "Epoch 11/100\n",
      "36/36 - 0s - loss: 0.3294 - accuracy: 0.8229 - val_loss: 0.3673 - val_accuracy: 0.8076 - 146ms/epoch - 4ms/step\n",
      "Epoch 12/100\n",
      "36/36 - 0s - loss: 0.3310 - accuracy: 0.8167 - val_loss: 0.3600 - val_accuracy: 0.8098 - 144ms/epoch - 4ms/step\n",
      "Epoch 13/100\n",
      "36/36 - 0s - loss: 0.3277 - accuracy: 0.8192 - val_loss: 0.3614 - val_accuracy: 0.8188 - 145ms/epoch - 4ms/step\n",
      "Epoch 14/100\n",
      "36/36 - 0s - loss: 0.3249 - accuracy: 0.8217 - val_loss: 0.3592 - val_accuracy: 0.8054 - 146ms/epoch - 4ms/step\n",
      "Epoch 15/100\n",
      "36/36 - 0s - loss: 0.3288 - accuracy: 0.8223 - val_loss: 0.3574 - val_accuracy: 0.8188 - 147ms/epoch - 4ms/step\n",
      "Epoch 16/100\n",
      "36/36 - 0s - loss: 0.3224 - accuracy: 0.8240 - val_loss: 0.3575 - val_accuracy: 0.8166 - 142ms/epoch - 4ms/step\n",
      "Epoch 17/100\n",
      "36/36 - 0s - loss: 0.3270 - accuracy: 0.8237 - val_loss: 0.3470 - val_accuracy: 0.8098 - 143ms/epoch - 4ms/step\n",
      "Epoch 18/100\n",
      "36/36 - 0s - loss: 0.3204 - accuracy: 0.8273 - val_loss: 0.3473 - val_accuracy: 0.8210 - 143ms/epoch - 4ms/step\n",
      "Epoch 19/100\n",
      "36/36 - 0s - loss: 0.3234 - accuracy: 0.8284 - val_loss: 0.3555 - val_accuracy: 0.8210 - 141ms/epoch - 4ms/step\n",
      "Epoch 20/100\n",
      "36/36 - 0s - loss: 0.3244 - accuracy: 0.8178 - val_loss: 0.3523 - val_accuracy: 0.8233 - 147ms/epoch - 4ms/step\n"
     ]
    },
    {
     "data": {
      "text/plain": [
       "<keras.callbacks.History at 0x2074aa960d0>"
      ]
     },
     "execution_count": 33,
     "metadata": {},
     "output_type": "execute_result"
    }
   ],
   "source": [
    "batch_size=100\n",
    "max_epochs=100\n",
    "early_stopping=tf.keras.callbacks.EarlyStopping(patience=3)\n",
    "\n",
    "model.fit(train_inputs,\n",
    "          train_targets,\n",
    "          batch_size=batch_size,\n",
    "          epochs=max_epochs,\n",
    "          validation_data=(validation_inputs,validation_targets),\n",
    "          callbacks=[early_stopping],\n",
    "          verbose=2)"
   ]
  },
  {
   "cell_type": "markdown",
   "metadata": {},
   "source": [
    "### Test Model"
   ]
  },
  {
   "cell_type": "code",
   "execution_count": 35,
   "metadata": {},
   "outputs": [
    {
     "name": "stdout",
     "output_type": "stream",
     "text": [
      "14/14 [==============================] - 0s 3ms/step - loss: 0.3158 - accuracy: 0.8326\n"
     ]
    }
   ],
   "source": [
    "test_loss,test_accuracy=model.evaluate(test_inputs,test_targets)"
   ]
  }
 ],
 "metadata": {
  "kernelspec": {
   "display_name": "TF2",
   "language": "python",
   "name": "python3"
  },
  "language_info": {
   "codemirror_mode": {
    "name": "ipython",
    "version": 3
   },
   "file_extension": ".py",
   "mimetype": "text/x-python",
   "name": "python",
   "nbconvert_exporter": "python",
   "pygments_lexer": "ipython3",
   "version": "3.8.0"
  },
  "orig_nbformat": 4,
  "vscode": {
   "interpreter": {
    "hash": "92756589d445cb45ba12b555e22d8959dc92efaeffc92b68d20f043be84897be"
   }
  }
 },
 "nbformat": 4,
 "nbformat_minor": 2
}
