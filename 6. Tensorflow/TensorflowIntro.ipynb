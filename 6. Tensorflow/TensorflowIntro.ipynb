{
 "cells": [
  {
   "cell_type": "markdown",
   "metadata": {},
   "source": [
    "### Actual TensorFlow Intro\n"
   ]
  },
  {
   "cell_type": "code",
   "execution_count": 19,
   "metadata": {},
   "outputs": [],
   "source": [
    "import tensorflow as tf\n",
    "import matplotlib.pyplot as plt\n",
    "import numpy as np"
   ]
  },
  {
   "cell_type": "markdown",
   "metadata": {},
   "source": [
    "### Data generation"
   ]
  },
  {
   "cell_type": "code",
   "execution_count": 20,
   "metadata": {},
   "outputs": [],
   "source": [
    "observations = 1000\n",
    "\n",
    "xs=np.random.uniform(-10,10,size=(observations,1))\n",
    "zs=np.random.uniform(-10,10,(observations,1))\n",
    "\n",
    "generated_inputs=np.column_stack((xs,zs))\n",
    "\n",
    "noise=np.random.uniform(-1,1,(observations,1))\n",
    "\n",
    "generated_targets= 2*xs -3*zs + 5 + noise\n",
    "\n",
    "np.savez('TF_intro',inputs=generated_inputs,targets=generated_targets)"
   ]
  },
  {
   "cell_type": "markdown",
   "metadata": {},
   "source": [
    "### Solving with TensorFlow"
   ]
  },
  {
   "cell_type": "code",
   "execution_count": 21,
   "metadata": {},
   "outputs": [],
   "source": [
    "training_data=np.load('TF_intro.npz')"
   ]
  },
  {
   "cell_type": "code",
   "execution_count": 22,
   "metadata": {},
   "outputs": [
    {
     "name": "stdout",
     "output_type": "stream",
     "text": [
      "Epoch 1/100\n",
      "32/32 - 0s - loss: 36.1736 - 447ms/epoch - 14ms/step\n",
      "Epoch 2/100\n",
      "32/32 - 0s - loss: 4.2135 - 43ms/epoch - 1ms/step\n",
      "Epoch 3/100\n",
      "32/32 - 0s - loss: 1.3945 - 40ms/epoch - 1ms/step\n",
      "Epoch 4/100\n",
      "32/32 - 0s - loss: 0.6383 - 37ms/epoch - 1ms/step\n",
      "Epoch 5/100\n",
      "32/32 - 0s - loss: 0.4238 - 46ms/epoch - 1ms/step\n",
      "Epoch 6/100\n",
      "32/32 - 0s - loss: 0.3683 - 43ms/epoch - 1ms/step\n",
      "Epoch 7/100\n",
      "32/32 - 0s - loss: 0.3494 - 67ms/epoch - 2ms/step\n",
      "Epoch 8/100\n",
      "32/32 - 0s - loss: 0.3412 - 61ms/epoch - 2ms/step\n",
      "Epoch 9/100\n",
      "32/32 - 0s - loss: 0.3357 - 56ms/epoch - 2ms/step\n",
      "Epoch 10/100\n",
      "32/32 - 0s - loss: 0.3368 - 46ms/epoch - 1ms/step\n",
      "Epoch 11/100\n",
      "32/32 - 0s - loss: 0.3396 - 35ms/epoch - 1ms/step\n",
      "Epoch 12/100\n",
      "32/32 - 0s - loss: 0.3392 - 33ms/epoch - 1ms/step\n",
      "Epoch 13/100\n",
      "32/32 - 0s - loss: 0.3419 - 39ms/epoch - 1ms/step\n",
      "Epoch 14/100\n",
      "32/32 - 0s - loss: 0.3385 - 36ms/epoch - 1ms/step\n",
      "Epoch 15/100\n",
      "32/32 - 0s - loss: 0.3398 - 38ms/epoch - 1ms/step\n",
      "Epoch 16/100\n",
      "32/32 - 0s - loss: 0.3361 - 46ms/epoch - 1ms/step\n",
      "Epoch 17/100\n",
      "32/32 - 0s - loss: 0.3467 - 41ms/epoch - 1ms/step\n",
      "Epoch 18/100\n",
      "32/32 - 0s - loss: 0.3404 - 45ms/epoch - 1ms/step\n",
      "Epoch 19/100\n",
      "32/32 - 0s - loss: 0.3433 - 44ms/epoch - 1ms/step\n",
      "Epoch 20/100\n",
      "32/32 - 0s - loss: 0.3394 - 43ms/epoch - 1ms/step\n",
      "Epoch 21/100\n",
      "32/32 - 0s - loss: 0.3330 - 40ms/epoch - 1ms/step\n",
      "Epoch 22/100\n",
      "32/32 - 0s - loss: 0.3437 - 34ms/epoch - 1ms/step\n",
      "Epoch 23/100\n",
      "32/32 - 0s - loss: 0.3441 - 38ms/epoch - 1ms/step\n",
      "Epoch 24/100\n",
      "32/32 - 0s - loss: 0.3437 - 32ms/epoch - 998us/step\n",
      "Epoch 25/100\n",
      "32/32 - 0s - loss: 0.3419 - 32ms/epoch - 997us/step\n",
      "Epoch 26/100\n",
      "32/32 - 0s - loss: 0.3382 - 31ms/epoch - 966us/step\n",
      "Epoch 27/100\n",
      "32/32 - 0s - loss: 0.3355 - 36ms/epoch - 1ms/step\n",
      "Epoch 28/100\n",
      "32/32 - 0s - loss: 0.3411 - 38ms/epoch - 1ms/step\n",
      "Epoch 29/100\n",
      "32/32 - 0s - loss: 0.3391 - 38ms/epoch - 1ms/step\n",
      "Epoch 30/100\n",
      "32/32 - 0s - loss: 0.3451 - 35ms/epoch - 1ms/step\n",
      "Epoch 31/100\n",
      "32/32 - 0s - loss: 0.3478 - 39ms/epoch - 1ms/step\n",
      "Epoch 32/100\n",
      "32/32 - 0s - loss: 0.3387 - 37ms/epoch - 1ms/step\n",
      "Epoch 33/100\n",
      "32/32 - 0s - loss: 0.3446 - 40ms/epoch - 1ms/step\n",
      "Epoch 34/100\n",
      "32/32 - 0s - loss: 0.3402 - 33ms/epoch - 1ms/step\n",
      "Epoch 35/100\n",
      "32/32 - 0s - loss: 0.3410 - 43ms/epoch - 1ms/step\n",
      "Epoch 36/100\n",
      "32/32 - 0s - loss: 0.3419 - 32ms/epoch - 998us/step\n",
      "Epoch 37/100\n",
      "32/32 - 0s - loss: 0.3482 - 35ms/epoch - 1ms/step\n",
      "Epoch 38/100\n",
      "32/32 - 0s - loss: 0.3382 - 39ms/epoch - 1ms/step\n",
      "Epoch 39/100\n",
      "32/32 - 0s - loss: 0.3445 - 34ms/epoch - 1ms/step\n",
      "Epoch 40/100\n",
      "32/32 - 0s - loss: 0.3419 - 39ms/epoch - 1ms/step\n",
      "Epoch 41/100\n",
      "32/32 - 0s - loss: 0.3364 - 37ms/epoch - 1ms/step\n",
      "Epoch 42/100\n",
      "32/32 - 0s - loss: 0.3530 - 41ms/epoch - 1ms/step\n",
      "Epoch 43/100\n",
      "32/32 - 0s - loss: 0.3393 - 36ms/epoch - 1ms/step\n",
      "Epoch 44/100\n",
      "32/32 - 0s - loss: 0.3391 - 39ms/epoch - 1ms/step\n",
      "Epoch 45/100\n",
      "32/32 - 0s - loss: 0.3434 - 33ms/epoch - 1ms/step\n",
      "Epoch 46/100\n",
      "32/32 - 0s - loss: 0.3364 - 37ms/epoch - 1ms/step\n",
      "Epoch 47/100\n",
      "32/32 - 0s - loss: 0.3454 - 34ms/epoch - 1ms/step\n",
      "Epoch 48/100\n",
      "32/32 - 0s - loss: 0.3398 - 38ms/epoch - 1ms/step\n",
      "Epoch 49/100\n",
      "32/32 - 0s - loss: 0.3402 - 41ms/epoch - 1ms/step\n",
      "Epoch 50/100\n",
      "32/32 - 0s - loss: 0.3402 - 36ms/epoch - 1ms/step\n",
      "Epoch 51/100\n",
      "32/32 - 0s - loss: 0.3411 - 34ms/epoch - 1ms/step\n",
      "Epoch 52/100\n",
      "32/32 - 0s - loss: 0.3418 - 37ms/epoch - 1ms/step\n",
      "Epoch 53/100\n",
      "32/32 - 0s - loss: 0.3410 - 36ms/epoch - 1ms/step\n",
      "Epoch 54/100\n",
      "32/32 - 0s - loss: 0.3424 - 35ms/epoch - 1ms/step\n",
      "Epoch 55/100\n",
      "32/32 - 0s - loss: 0.3399 - 35ms/epoch - 1ms/step\n",
      "Epoch 56/100\n",
      "32/32 - 0s - loss: 0.3381 - 34ms/epoch - 1ms/step\n",
      "Epoch 57/100\n",
      "32/32 - 0s - loss: 0.3405 - 36ms/epoch - 1ms/step\n",
      "Epoch 58/100\n",
      "32/32 - 0s - loss: 0.3403 - 42ms/epoch - 1ms/step\n",
      "Epoch 59/100\n",
      "32/32 - 0s - loss: 0.3402 - 33ms/epoch - 1ms/step\n",
      "Epoch 60/100\n",
      "32/32 - 0s - loss: 0.3352 - 36ms/epoch - 1ms/step\n",
      "Epoch 61/100\n",
      "32/32 - 0s - loss: 0.3389 - 42ms/epoch - 1ms/step\n",
      "Epoch 62/100\n",
      "32/32 - 0s - loss: 0.3426 - 34ms/epoch - 1ms/step\n",
      "Epoch 63/100\n",
      "32/32 - 0s - loss: 0.3443 - 33ms/epoch - 1ms/step\n",
      "Epoch 64/100\n",
      "32/32 - 0s - loss: 0.3460 - 37ms/epoch - 1ms/step\n",
      "Epoch 65/100\n",
      "32/32 - 0s - loss: 0.3420 - 42ms/epoch - 1ms/step\n",
      "Epoch 66/100\n",
      "32/32 - 0s - loss: 0.3425 - 34ms/epoch - 1ms/step\n",
      "Epoch 67/100\n",
      "32/32 - 0s - loss: 0.3410 - 46ms/epoch - 1ms/step\n",
      "Epoch 68/100\n",
      "32/32 - 0s - loss: 0.3379 - 45ms/epoch - 1ms/step\n",
      "Epoch 69/100\n",
      "32/32 - 0s - loss: 0.3404 - 40ms/epoch - 1ms/step\n",
      "Epoch 70/100\n",
      "32/32 - 0s - loss: 0.3391 - 43ms/epoch - 1ms/step\n",
      "Epoch 71/100\n",
      "32/32 - 0s - loss: 0.3431 - 45ms/epoch - 1ms/step\n",
      "Epoch 72/100\n",
      "32/32 - 0s - loss: 0.3440 - 34ms/epoch - 1ms/step\n",
      "Epoch 73/100\n",
      "32/32 - 0s - loss: 0.3408 - 40ms/epoch - 1ms/step\n",
      "Epoch 74/100\n",
      "32/32 - 0s - loss: 0.3411 - 31ms/epoch - 966us/step\n",
      "Epoch 75/100\n",
      "32/32 - 0s - loss: 0.3422 - 39ms/epoch - 1ms/step\n",
      "Epoch 76/100\n",
      "32/32 - 0s - loss: 0.3393 - 33ms/epoch - 1ms/step\n",
      "Epoch 77/100\n",
      "32/32 - 0s - loss: 0.3381 - 39ms/epoch - 1ms/step\n",
      "Epoch 78/100\n",
      "32/32 - 0s - loss: 0.3394 - 44ms/epoch - 1ms/step\n",
      "Epoch 79/100\n",
      "32/32 - 0s - loss: 0.3435 - 40ms/epoch - 1ms/step\n",
      "Epoch 80/100\n",
      "32/32 - 0s - loss: 0.3468 - 38ms/epoch - 1ms/step\n",
      "Epoch 81/100\n",
      "32/32 - 0s - loss: 0.3411 - 36ms/epoch - 1ms/step\n",
      "Epoch 82/100\n",
      "32/32 - 0s - loss: 0.3405 - 41ms/epoch - 1ms/step\n",
      "Epoch 83/100\n",
      "32/32 - 0s - loss: 0.3416 - 34ms/epoch - 1ms/step\n",
      "Epoch 84/100\n",
      "32/32 - 0s - loss: 0.3430 - 41ms/epoch - 1ms/step\n",
      "Epoch 85/100\n",
      "32/32 - 0s - loss: 0.3431 - 34ms/epoch - 1ms/step\n",
      "Epoch 86/100\n",
      "32/32 - 0s - loss: 0.3357 - 46ms/epoch - 1ms/step\n",
      "Epoch 87/100\n",
      "32/32 - 0s - loss: 0.3436 - 48ms/epoch - 1ms/step\n",
      "Epoch 88/100\n",
      "32/32 - 0s - loss: 0.3368 - 52ms/epoch - 2ms/step\n",
      "Epoch 89/100\n",
      "32/32 - 0s - loss: 0.3381 - 52ms/epoch - 2ms/step\n",
      "Epoch 90/100\n",
      "32/32 - 0s - loss: 0.3356 - 48ms/epoch - 1ms/step\n",
      "Epoch 91/100\n",
      "32/32 - 0s - loss: 0.3514 - 51ms/epoch - 2ms/step\n",
      "Epoch 92/100\n",
      "32/32 - 0s - loss: 0.3378 - 42ms/epoch - 1ms/step\n",
      "Epoch 93/100\n",
      "32/32 - 0s - loss: 0.3343 - 40ms/epoch - 1ms/step\n",
      "Epoch 94/100\n",
      "32/32 - 0s - loss: 0.3393 - 37ms/epoch - 1ms/step\n",
      "Epoch 95/100\n",
      "32/32 - 0s - loss: 0.3382 - 37ms/epoch - 1ms/step\n",
      "Epoch 96/100\n",
      "32/32 - 0s - loss: 0.3479 - 37ms/epoch - 1ms/step\n",
      "Epoch 97/100\n",
      "32/32 - 0s - loss: 0.3410 - 42ms/epoch - 1ms/step\n",
      "Epoch 98/100\n",
      "32/32 - 0s - loss: 0.3417 - 39ms/epoch - 1ms/step\n",
      "Epoch 99/100\n",
      "32/32 - 0s - loss: 0.3394 - 39ms/epoch - 1ms/step\n",
      "Epoch 100/100\n",
      "32/32 - 0s - loss: 0.3426 - 49ms/epoch - 2ms/step\n"
     ]
    },
    {
     "data": {
      "text/plain": [
       "<keras.callbacks.History at 0x196a3512fa0>"
      ]
     },
     "execution_count": 22,
     "metadata": {},
     "output_type": "execute_result"
    }
   ],
   "source": [
    "input_size=2\n",
    "output_size=1\n",
    "\n",
    "model=tf.keras.Sequential([\n",
    "    tf.keras.layers.Dense(output_size)\n",
    "])\n",
    "model.compile(optimizer='sgd',loss='mean_squared_error')\n",
    "model.fit(training_data['inputs'],training_data['targets'],epochs=100,verbose=2)"
   ]
  },
  {
   "cell_type": "markdown",
   "metadata": {},
   "source": [
    "### Extract the weights and bias"
   ]
  },
  {
   "cell_type": "code",
   "execution_count": 23,
   "metadata": {},
   "outputs": [
    {
     "data": {
      "text/plain": [
       "[array([[ 2.011462 ],\n",
       "        [-2.9551315]], dtype=float32),\n",
       " array([4.9673843], dtype=float32)]"
      ]
     },
     "execution_count": 23,
     "metadata": {},
     "output_type": "execute_result"
    }
   ],
   "source": [
    "model.layers[0].get_weights()"
   ]
  },
  {
   "cell_type": "code",
   "execution_count": 24,
   "metadata": {},
   "outputs": [
    {
     "data": {
      "text/plain": [
       "array([[ 2.011462 ],\n",
       "       [-2.9551315]], dtype=float32)"
      ]
     },
     "execution_count": 24,
     "metadata": {},
     "output_type": "execute_result"
    }
   ],
   "source": [
    "weights=model.layers[0].get_weights()[0]\n",
    "weights"
   ]
  },
  {
   "cell_type": "code",
   "execution_count": 25,
   "metadata": {},
   "outputs": [
    {
     "data": {
      "text/plain": [
       "array([4.9673843], dtype=float32)"
      ]
     },
     "execution_count": 25,
     "metadata": {},
     "output_type": "execute_result"
    }
   ],
   "source": [
    "bias=model.layers[0].get_weights()[1]\n",
    "bias"
   ]
  },
  {
   "cell_type": "markdown",
   "metadata": {},
   "source": [
    "### Extract the outputs"
   ]
  },
  {
   "cell_type": "code",
   "execution_count": 26,
   "metadata": {},
   "outputs": [
    {
     "data": {
      "text/plain": [
       "array([[-10.2],\n",
       "       [  7.2],\n",
       "       [ -0.3],\n",
       "       [ 12. ],\n",
       "       [-27.1],\n",
       "       [-13.7],\n",
       "       [-34.8],\n",
       "       [  4.2],\n",
       "       [ -4.8],\n",
       "       [ 16.7]], dtype=float32)"
      ]
     },
     "execution_count": 26,
     "metadata": {},
     "output_type": "execute_result"
    }
   ],
   "source": [
    "model.predict_on_batch(training_data['inputs']).round(1)[10:20]"
   ]
  },
  {
   "cell_type": "code",
   "execution_count": 27,
   "metadata": {},
   "outputs": [
    {
     "data": {
      "text/plain": [
       "array([[-10.4],\n",
       "       [  7.7],\n",
       "       [ -0.3],\n",
       "       [ 12.9],\n",
       "       [-26.7],\n",
       "       [-13.3],\n",
       "       [-35.9],\n",
       "       [  4.5],\n",
       "       [ -4.7],\n",
       "       [ 17. ]])"
      ]
     },
     "execution_count": 27,
     "metadata": {},
     "output_type": "execute_result"
    }
   ],
   "source": [
    "training_data['targets'].round(1)[10:20]"
   ]
  },
  {
   "cell_type": "markdown",
   "metadata": {},
   "source": [
    "### Customizing TF2 Model"
   ]
  },
  {
   "cell_type": "code",
   "execution_count": 31,
   "metadata": {},
   "outputs": [],
   "source": [
    "training_data=np.load('TF_intro.npz')"
   ]
  },
  {
   "cell_type": "code",
   "execution_count": 35,
   "metadata": {},
   "outputs": [
    {
     "name": "stdout",
     "output_type": "stream",
     "text": [
      "Epoch 1/100\n",
      "32/32 - 1s - loss: 31.7824 - 545ms/epoch - 17ms/step\n",
      "Epoch 2/100\n",
      "32/32 - 0s - loss: 4.4198 - 52ms/epoch - 2ms/step\n",
      "Epoch 3/100\n",
      "32/32 - 0s - loss: 1.4425 - 54ms/epoch - 2ms/step\n",
      "Epoch 4/100\n",
      "32/32 - 0s - loss: 0.6602 - 53ms/epoch - 2ms/step\n",
      "Epoch 5/100\n",
      "32/32 - 0s - loss: 0.4285 - 48ms/epoch - 1ms/step\n",
      "Epoch 6/100\n",
      "32/32 - 0s - loss: 0.3639 - 58ms/epoch - 2ms/step\n",
      "Epoch 7/100\n",
      "32/32 - 0s - loss: 0.3431 - 52ms/epoch - 2ms/step\n",
      "Epoch 8/100\n",
      "32/32 - 0s - loss: 0.3457 - 57ms/epoch - 2ms/step\n",
      "Epoch 9/100\n",
      "32/32 - 0s - loss: 0.3452 - 50ms/epoch - 2ms/step\n",
      "Epoch 10/100\n",
      "32/32 - 0s - loss: 0.3418 - 50ms/epoch - 2ms/step\n",
      "Epoch 11/100\n",
      "32/32 - 0s - loss: 0.3393 - 48ms/epoch - 1ms/step\n",
      "Epoch 12/100\n",
      "32/32 - 0s - loss: 0.3445 - 46ms/epoch - 1ms/step\n",
      "Epoch 13/100\n",
      "32/32 - 0s - loss: 0.3373 - 50ms/epoch - 2ms/step\n",
      "Epoch 14/100\n",
      "32/32 - 0s - loss: 0.3392 - 52ms/epoch - 2ms/step\n",
      "Epoch 15/100\n",
      "32/32 - 0s - loss: 0.3457 - 32ms/epoch - 998us/step\n",
      "Epoch 16/100\n",
      "32/32 - 0s - loss: 0.3445 - 36ms/epoch - 1ms/step\n",
      "Epoch 17/100\n",
      "32/32 - 0s - loss: 0.3405 - 30ms/epoch - 935us/step\n",
      "Epoch 18/100\n",
      "32/32 - 0s - loss: 0.3396 - 31ms/epoch - 966us/step\n",
      "Epoch 19/100\n",
      "32/32 - 0s - loss: 0.3401 - 36ms/epoch - 1ms/step\n",
      "Epoch 20/100\n",
      "32/32 - 0s - loss: 0.3337 - 30ms/epoch - 935us/step\n",
      "Epoch 21/100\n",
      "32/32 - 0s - loss: 0.3397 - 32ms/epoch - 997us/step\n",
      "Epoch 22/100\n",
      "32/32 - 0s - loss: 0.3424 - 38ms/epoch - 1ms/step\n",
      "Epoch 23/100\n",
      "32/32 - 0s - loss: 0.3401 - 34ms/epoch - 1ms/step\n",
      "Epoch 24/100\n",
      "32/32 - 0s - loss: 0.3362 - 41ms/epoch - 1ms/step\n",
      "Epoch 25/100\n",
      "32/32 - 0s - loss: 0.3402 - 38ms/epoch - 1ms/step\n",
      "Epoch 26/100\n",
      "32/32 - 0s - loss: 0.3377 - 37ms/epoch - 1ms/step\n",
      "Epoch 27/100\n",
      "32/32 - 0s - loss: 0.3458 - 35ms/epoch - 1ms/step\n",
      "Epoch 28/100\n",
      "32/32 - 0s - loss: 0.3416 - 36ms/epoch - 1ms/step\n",
      "Epoch 29/100\n",
      "32/32 - 0s - loss: 0.3441 - 38ms/epoch - 1ms/step\n",
      "Epoch 30/100\n",
      "32/32 - 0s - loss: 0.3395 - 37ms/epoch - 1ms/step\n",
      "Epoch 31/100\n",
      "32/32 - 0s - loss: 0.3387 - 38ms/epoch - 1ms/step\n",
      "Epoch 32/100\n",
      "32/32 - 0s - loss: 0.3421 - 34ms/epoch - 1ms/step\n",
      "Epoch 33/100\n",
      "32/32 - 0s - loss: 0.3479 - 48ms/epoch - 1ms/step\n",
      "Epoch 34/100\n",
      "32/32 - 0s - loss: 0.3488 - 35ms/epoch - 1ms/step\n",
      "Epoch 35/100\n",
      "32/32 - 0s - loss: 0.3357 - 33ms/epoch - 1ms/step\n",
      "Epoch 36/100\n",
      "32/32 - 0s - loss: 0.3441 - 35ms/epoch - 1ms/step\n",
      "Epoch 37/100\n",
      "32/32 - 0s - loss: 0.3415 - 36ms/epoch - 1ms/step\n",
      "Epoch 38/100\n",
      "32/32 - 0s - loss: 0.3360 - 38ms/epoch - 1ms/step\n",
      "Epoch 39/100\n",
      "32/32 - 0s - loss: 0.3401 - 35ms/epoch - 1ms/step\n",
      "Epoch 40/100\n",
      "32/32 - 0s - loss: 0.3412 - 34ms/epoch - 1ms/step\n",
      "Epoch 41/100\n",
      "32/32 - 0s - loss: 0.3402 - 36ms/epoch - 1ms/step\n",
      "Epoch 42/100\n",
      "32/32 - 0s - loss: 0.3455 - 34ms/epoch - 1ms/step\n",
      "Epoch 43/100\n",
      "32/32 - 0s - loss: 0.3388 - 74ms/epoch - 2ms/step\n",
      "Epoch 44/100\n",
      "32/32 - 0s - loss: 0.3452 - 34ms/epoch - 1ms/step\n",
      "Epoch 45/100\n",
      "32/32 - 0s - loss: 0.3484 - 38ms/epoch - 1ms/step\n",
      "Epoch 46/100\n",
      "32/32 - 0s - loss: 0.3349 - 33ms/epoch - 1ms/step\n",
      "Epoch 47/100\n",
      "32/32 - 0s - loss: 0.3489 - 36ms/epoch - 1ms/step\n",
      "Epoch 48/100\n",
      "32/32 - 0s - loss: 0.3402 - 41ms/epoch - 1ms/step\n",
      "Epoch 49/100\n",
      "32/32 - 0s - loss: 0.3453 - 33ms/epoch - 1ms/step\n",
      "Epoch 50/100\n",
      "32/32 - 0s - loss: 0.3356 - 37ms/epoch - 1ms/step\n",
      "Epoch 51/100\n",
      "32/32 - 0s - loss: 0.3401 - 35ms/epoch - 1ms/step\n",
      "Epoch 52/100\n",
      "32/32 - 0s - loss: 0.3422 - 37ms/epoch - 1ms/step\n",
      "Epoch 53/100\n",
      "32/32 - 0s - loss: 0.3463 - 33ms/epoch - 1ms/step\n",
      "Epoch 54/100\n",
      "32/32 - 0s - loss: 0.3393 - 37ms/epoch - 1ms/step\n",
      "Epoch 55/100\n",
      "32/32 - 0s - loss: 0.3378 - 38ms/epoch - 1ms/step\n",
      "Epoch 56/100\n",
      "32/32 - 0s - loss: 0.3427 - 34ms/epoch - 1ms/step\n",
      "Epoch 57/100\n",
      "32/32 - 0s - loss: 0.3351 - 37ms/epoch - 1ms/step\n",
      "Epoch 58/100\n",
      "32/32 - 0s - loss: 0.3410 - 40ms/epoch - 1ms/step\n",
      "Epoch 59/100\n",
      "32/32 - 0s - loss: 0.3443 - 36ms/epoch - 1ms/step\n",
      "Epoch 60/100\n",
      "32/32 - 0s - loss: 0.3428 - 36ms/epoch - 1ms/step\n",
      "Epoch 61/100\n",
      "32/32 - 0s - loss: 0.3389 - 36ms/epoch - 1ms/step\n",
      "Epoch 62/100\n",
      "32/32 - 0s - loss: 0.3309 - 38ms/epoch - 1ms/step\n",
      "Epoch 63/100\n",
      "32/32 - 0s - loss: 0.3433 - 33ms/epoch - 1ms/step\n",
      "Epoch 64/100\n",
      "32/32 - 0s - loss: 0.3425 - 41ms/epoch - 1ms/step\n",
      "Epoch 65/100\n",
      "32/32 - 0s - loss: 0.3424 - 35ms/epoch - 1ms/step\n",
      "Epoch 66/100\n",
      "32/32 - 0s - loss: 0.3398 - 36ms/epoch - 1ms/step\n",
      "Epoch 67/100\n",
      "32/32 - 0s - loss: 0.3410 - 40ms/epoch - 1ms/step\n",
      "Epoch 68/100\n",
      "32/32 - 0s - loss: 0.3414 - 34ms/epoch - 1ms/step\n",
      "Epoch 69/100\n",
      "32/32 - 0s - loss: 0.3427 - 34ms/epoch - 1ms/step\n",
      "Epoch 70/100\n",
      "32/32 - 0s - loss: 0.3409 - 38ms/epoch - 1ms/step\n",
      "Epoch 71/100\n",
      "32/32 - 0s - loss: 0.3448 - 38ms/epoch - 1ms/step\n",
      "Epoch 72/100\n",
      "32/32 - 0s - loss: 0.3399 - 33ms/epoch - 1ms/step\n",
      "Epoch 73/100\n",
      "32/32 - 0s - loss: 0.3402 - 38ms/epoch - 1ms/step\n",
      "Epoch 74/100\n",
      "32/32 - 0s - loss: 0.3414 - 34ms/epoch - 1ms/step\n",
      "Epoch 75/100\n",
      "32/32 - 0s - loss: 0.3406 - 35ms/epoch - 1ms/step\n",
      "Epoch 76/100\n",
      "32/32 - 0s - loss: 0.3446 - 37ms/epoch - 1ms/step\n",
      "Epoch 77/100\n",
      "32/32 - 0s - loss: 0.3396 - 36ms/epoch - 1ms/step\n",
      "Epoch 78/100\n",
      "32/32 - 0s - loss: 0.3335 - 38ms/epoch - 1ms/step\n",
      "Epoch 79/100\n",
      "32/32 - 0s - loss: 0.3407 - 33ms/epoch - 1ms/step\n",
      "Epoch 80/100\n",
      "32/32 - 0s - loss: 0.3395 - 36ms/epoch - 1ms/step\n",
      "Epoch 81/100\n",
      "32/32 - 0s - loss: 0.3441 - 41ms/epoch - 1ms/step\n",
      "Epoch 82/100\n",
      "32/32 - 0s - loss: 0.3375 - 32ms/epoch - 997us/step\n",
      "Epoch 83/100\n",
      "32/32 - 0s - loss: 0.3364 - 37ms/epoch - 1ms/step\n",
      "Epoch 84/100\n",
      "32/32 - 0s - loss: 0.3455 - 35ms/epoch - 1ms/step\n",
      "Epoch 85/100\n",
      "32/32 - 0s - loss: 0.3352 - 34ms/epoch - 1ms/step\n",
      "Epoch 86/100\n",
      "32/32 - 0s - loss: 0.3437 - 37ms/epoch - 1ms/step\n",
      "Epoch 87/100\n",
      "32/32 - 0s - loss: 0.3465 - 36ms/epoch - 1ms/step\n",
      "Epoch 88/100\n",
      "32/32 - 0s - loss: 0.3321 - 34ms/epoch - 1ms/step\n",
      "Epoch 89/100\n",
      "32/32 - 0s - loss: 0.3420 - 40ms/epoch - 1ms/step\n",
      "Epoch 90/100\n",
      "32/32 - 0s - loss: 0.3351 - 34ms/epoch - 1ms/step\n",
      "Epoch 91/100\n",
      "32/32 - 0s - loss: 0.3395 - 38ms/epoch - 1ms/step\n",
      "Epoch 92/100\n",
      "32/32 - 0s - loss: 0.3405 - 34ms/epoch - 1ms/step\n",
      "Epoch 93/100\n",
      "32/32 - 0s - loss: 0.3485 - 38ms/epoch - 1ms/step\n",
      "Epoch 94/100\n",
      "32/32 - 0s - loss: 0.3472 - 34ms/epoch - 1ms/step\n",
      "Epoch 95/100\n",
      "32/32 - 0s - loss: 0.3402 - 43ms/epoch - 1ms/step\n",
      "Epoch 96/100\n",
      "32/32 - 0s - loss: 0.3418 - 35ms/epoch - 1ms/step\n",
      "Epoch 97/100\n",
      "32/32 - 0s - loss: 0.3380 - 42ms/epoch - 1ms/step\n",
      "Epoch 98/100\n",
      "32/32 - 0s - loss: 0.3389 - 34ms/epoch - 1ms/step\n",
      "Epoch 99/100\n",
      "32/32 - 0s - loss: 0.3371 - 35ms/epoch - 1ms/step\n",
      "Epoch 100/100\n",
      "32/32 - 0s - loss: 0.3394 - 32ms/epoch - 997us/step\n"
     ]
    },
    {
     "data": {
      "text/plain": [
       "<keras.callbacks.History at 0x196a09233d0>"
      ]
     },
     "execution_count": 35,
     "metadata": {},
     "output_type": "execute_result"
    }
   ],
   "source": [
    "input_size=2\n",
    "output_size=1\n",
    "\n",
    "model=tf.keras.Sequential([\n",
    "    tf.keras.layers.Dense(output_size,\n",
    "                          kernel_initializer=tf.random_uniform_initializer(minval=-0.1,maxval=0.1),\n",
    "                          bias_initializer=tf.random_uniform_initializer(minval=-0.1,maxval=0.1))\n",
    "])\n",
    "custom_optimizer=tf.keras.optimizers.SGD(learning_rate=0.01)\n",
    "model.compile(optimizer=custom_optimizer,loss='mean_squared_error')\n",
    "model.fit(training_data['inputs'],training_data['targets'],epochs=100,verbose=2)"
   ]
  },
  {
   "cell_type": "code",
   "execution_count": 36,
   "metadata": {},
   "outputs": [
    {
     "data": {
      "text/plain": [
       "array([[ 2.0068262],\n",
       "       [-2.9930947]], dtype=float32)"
      ]
     },
     "execution_count": 36,
     "metadata": {},
     "output_type": "execute_result"
    }
   ],
   "source": [
    "weights=model.layers[0].get_weights()[0]\n",
    "weights"
   ]
  },
  {
   "cell_type": "code",
   "execution_count": 37,
   "metadata": {},
   "outputs": [
    {
     "data": {
      "text/plain": [
       "array([4.96015], dtype=float32)"
      ]
     },
     "execution_count": 37,
     "metadata": {},
     "output_type": "execute_result"
    }
   ],
   "source": [
    "bias=model.layers[0].get_weights()[1]\n",
    "bias"
   ]
  },
  {
   "cell_type": "code",
   "execution_count": null,
   "metadata": {},
   "outputs": [],
   "source": []
  }
 ],
 "metadata": {
  "kernelspec": {
   "display_name": "TF2",
   "language": "python",
   "name": "python3"
  },
  "language_info": {
   "codemirror_mode": {
    "name": "ipython",
    "version": 3
   },
   "file_extension": ".py",
   "mimetype": "text/x-python",
   "name": "python",
   "nbconvert_exporter": "python",
   "pygments_lexer": "ipython3",
   "version": "3.8.0 (default, Nov  6 2019, 16:00:02) [MSC v.1916 64 bit (AMD64)]"
  },
  "orig_nbformat": 4,
  "vscode": {
   "interpreter": {
    "hash": "92756589d445cb45ba12b555e22d8959dc92efaeffc92b68d20f043be84897be"
   }
  }
 },
 "nbformat": 4,
 "nbformat_minor": 2
}
